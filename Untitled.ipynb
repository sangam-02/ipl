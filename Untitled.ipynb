{
  "cells": [
    {
      "cell_type": "code",
      "execution_count": null,
      "metadata": {
        "id": "u56IxdH2DjZo"
      },
      "outputs": [],
      "source": [
        "import matplotlib.pyplot as plt\n",
        "import pandas as pd\n",
        "\n",
        "df = pd.read_csv('/content/drive/MyDrive/Match.csv')"
      ]
    },
    {
      "cell_type": "code",
      "execution_count": null,
      "metadata": {
        "id": "JBPYmr-B3CAI"
      },
      "outputs": [],
      "source": [
        "from google.colab import drive\n",
        "drive.mount('/content/drive')"
      ]
    },
    {
      "cell_type": "code",
      "execution_count": null,
      "metadata": {
        "colab": {
          "base_uri": "https://localhost:8080/"
        },
        "id": "jeRxo3VwJN9b",
        "outputId": "bc425a6c-afe8-4d49-ade6-24fc1f7b2b3c"
      },
      "outputs": [
        {
          "output_type": "stream",
          "name": "stdout",
          "text": [
            "Drive already mounted at /content/drive; to attempt to forcibly remount, call drive.mount(\"/content/drive\", force_remount=True).\n"
          ]
        }
      ],
      "source": [
        "#loading the required libraries\n",
        "import pandas as pd\n",
        "from matplotlib import pyplot as plt\n",
        "import seaborn as sns\n",
        "import numpy as np\n",
        "from google.colab import drive\n",
        "drive.mount('/content/drive')\n",
        "df = pd.read_csv('/content/drive/MyDrive/Match.csv')"
      ]
    },
    {
      "cell_type": "code",
      "source": [
        "gf = pd.read_csv('/content/drive/MyDrive/teamwise_home_and_away.csv')"
      ],
      "metadata": {
        "id": "UIiNa9iUjgTC"
      },
      "execution_count": null,
      "outputs": []
    },
    {
      "cell_type": "code",
      "execution_count": null,
      "metadata": {
        "id": "I8h29XN8I7-9"
      },
      "outputs": [],
      "source": [
        ""
      ]
    },
    {
      "cell_type": "code",
      "execution_count": null,
      "metadata": {
        "colab": {
          "base_uri": "https://localhost:8080/",
          "height": 461
        },
        "id": "-wQ7CxqRE9f0",
        "outputId": "ab32eccb-0985-40da-b562-991d3f93d99c"
      },
      "outputs": [
        {
          "data": {
            "text/html": [
              "\n",
              "  <div id=\"df-8d3962a2-f0e6-4405-aa36-c4bd7a549036\">\n",
              "    <div class=\"colab-df-container\">\n",
              "      <div>\n",
              "<style scoped>\n",
              "    .dataframe tbody tr th:only-of-type {\n",
              "        vertical-align: middle;\n",
              "    }\n",
              "\n",
              "    .dataframe tbody tr th {\n",
              "        vertical-align: top;\n",
              "    }\n",
              "\n",
              "    .dataframe thead th {\n",
              "        text-align: right;\n",
              "    }\n",
              "</style>\n",
              "<table border=\"1\" class=\"dataframe\">\n",
              "  <thead>\n",
              "    <tr style=\"text-align: right;\">\n",
              "      <th></th>\n",
              "      <th>Match_SK</th>\n",
              "      <th>match_id</th>\n",
              "      <th>Team1</th>\n",
              "      <th>Team2</th>\n",
              "      <th>match_date</th>\n",
              "      <th>Season_Year</th>\n",
              "      <th>Venue_Name</th>\n",
              "      <th>City_Name</th>\n",
              "      <th>Country_Name</th>\n",
              "      <th>Toss_Winner</th>\n",
              "      <th>match_winner</th>\n",
              "      <th>Toss_Name</th>\n",
              "      <th>Win_Type</th>\n",
              "      <th>Outcome_Type</th>\n",
              "      <th>ManOfMach</th>\n",
              "      <th>Win_Margin</th>\n",
              "      <th>Country_id</th>\n",
              "    </tr>\n",
              "  </thead>\n",
              "  <tbody>\n",
              "    <tr>\n",
              "      <th>0</th>\n",
              "      <td>0</td>\n",
              "      <td>335987</td>\n",
              "      <td>Royal Challengers Bangalore</td>\n",
              "      <td>Kolkata Knight Riders</td>\n",
              "      <td>4/18/2008</td>\n",
              "      <td>2008</td>\n",
              "      <td>M Chinnaswamy Stadium</td>\n",
              "      <td>Bangalore</td>\n",
              "      <td>India</td>\n",
              "      <td>Royal Challengers Bangalore</td>\n",
              "      <td>Kolkata Knight Riders</td>\n",
              "      <td>field</td>\n",
              "      <td>runs</td>\n",
              "      <td>Result</td>\n",
              "      <td>BB McCullum</td>\n",
              "      <td>140.0</td>\n",
              "      <td>1</td>\n",
              "    </tr>\n",
              "    <tr>\n",
              "      <th>1</th>\n",
              "      <td>1</td>\n",
              "      <td>335988</td>\n",
              "      <td>Kings XI Punjab</td>\n",
              "      <td>Chennai Super Kings</td>\n",
              "      <td>4/19/2008</td>\n",
              "      <td>2008</td>\n",
              "      <td>Punjab Cricket Association Stadium, Mohali</td>\n",
              "      <td>Chandigarh</td>\n",
              "      <td>India</td>\n",
              "      <td>Chennai Super Kings</td>\n",
              "      <td>Chennai Super Kings</td>\n",
              "      <td>bat</td>\n",
              "      <td>runs</td>\n",
              "      <td>Result</td>\n",
              "      <td>MEK Hussey</td>\n",
              "      <td>33.0</td>\n",
              "      <td>1</td>\n",
              "    </tr>\n",
              "    <tr>\n",
              "      <th>2</th>\n",
              "      <td>2</td>\n",
              "      <td>335989</td>\n",
              "      <td>Delhi Daredevils</td>\n",
              "      <td>Rajasthan Royals</td>\n",
              "      <td>4/19/2008</td>\n",
              "      <td>2008</td>\n",
              "      <td>Feroz Shah Kotla</td>\n",
              "      <td>Delhi</td>\n",
              "      <td>India</td>\n",
              "      <td>Rajasthan Royals</td>\n",
              "      <td>Delhi Daredevils</td>\n",
              "      <td>bat</td>\n",
              "      <td>wickets</td>\n",
              "      <td>Result</td>\n",
              "      <td>MF Maharoof</td>\n",
              "      <td>9.0</td>\n",
              "      <td>1</td>\n",
              "    </tr>\n",
              "    <tr>\n",
              "      <th>3</th>\n",
              "      <td>3</td>\n",
              "      <td>335990</td>\n",
              "      <td>Mumbai Indians</td>\n",
              "      <td>Royal Challengers Bangalore</td>\n",
              "      <td>4/20/2008</td>\n",
              "      <td>2008</td>\n",
              "      <td>Wankhede Stadium</td>\n",
              "      <td>Mumbai</td>\n",
              "      <td>India</td>\n",
              "      <td>Mumbai Indians</td>\n",
              "      <td>Royal Challengers Bangalore</td>\n",
              "      <td>bat</td>\n",
              "      <td>wickets</td>\n",
              "      <td>Result</td>\n",
              "      <td>MV Boucher</td>\n",
              "      <td>5.0</td>\n",
              "      <td>1</td>\n",
              "    </tr>\n",
              "    <tr>\n",
              "      <th>4</th>\n",
              "      <td>4</td>\n",
              "      <td>335991</td>\n",
              "      <td>Kolkata Knight Riders</td>\n",
              "      <td>Deccan Chargers</td>\n",
              "      <td>4/20/2008</td>\n",
              "      <td>2008</td>\n",
              "      <td>Eden Gardens</td>\n",
              "      <td>Kolkata</td>\n",
              "      <td>India</td>\n",
              "      <td>Deccan Chargers</td>\n",
              "      <td>Kolkata Knight Riders</td>\n",
              "      <td>bat</td>\n",
              "      <td>wickets</td>\n",
              "      <td>Result</td>\n",
              "      <td>DJ Hussey</td>\n",
              "      <td>5.0</td>\n",
              "      <td>1</td>\n",
              "    </tr>\n",
              "  </tbody>\n",
              "</table>\n",
              "</div>\n",
              "      <button class=\"colab-df-convert\" onclick=\"convertToInteractive('df-8d3962a2-f0e6-4405-aa36-c4bd7a549036')\"\n",
              "              title=\"Convert this dataframe to an interactive table.\"\n",
              "              style=\"display:none;\">\n",
              "        \n",
              "  <svg xmlns=\"http://www.w3.org/2000/svg\" height=\"24px\"viewBox=\"0 0 24 24\"\n",
              "       width=\"24px\">\n",
              "    <path d=\"M0 0h24v24H0V0z\" fill=\"none\"/>\n",
              "    <path d=\"M18.56 5.44l.94 2.06.94-2.06 2.06-.94-2.06-.94-.94-2.06-.94 2.06-2.06.94zm-11 1L8.5 8.5l.94-2.06 2.06-.94-2.06-.94L8.5 2.5l-.94 2.06-2.06.94zm10 10l.94 2.06.94-2.06 2.06-.94-2.06-.94-.94-2.06-.94 2.06-2.06.94z\"/><path d=\"M17.41 7.96l-1.37-1.37c-.4-.4-.92-.59-1.43-.59-.52 0-1.04.2-1.43.59L10.3 9.45l-7.72 7.72c-.78.78-.78 2.05 0 2.83L4 21.41c.39.39.9.59 1.41.59.51 0 1.02-.2 1.41-.59l7.78-7.78 2.81-2.81c.8-.78.8-2.07 0-2.86zM5.41 20L4 18.59l7.72-7.72 1.47 1.35L5.41 20z\"/>\n",
              "  </svg>\n",
              "      </button>\n",
              "      \n",
              "  <style>\n",
              "    .colab-df-container {\n",
              "      display:flex;\n",
              "      flex-wrap:wrap;\n",
              "      gap: 12px;\n",
              "    }\n",
              "\n",
              "    .colab-df-convert {\n",
              "      background-color: #E8F0FE;\n",
              "      border: none;\n",
              "      border-radius: 50%;\n",
              "      cursor: pointer;\n",
              "      display: none;\n",
              "      fill: #1967D2;\n",
              "      height: 32px;\n",
              "      padding: 0 0 0 0;\n",
              "      width: 32px;\n",
              "    }\n",
              "\n",
              "    .colab-df-convert:hover {\n",
              "      background-color: #E2EBFA;\n",
              "      box-shadow: 0px 1px 2px rgba(60, 64, 67, 0.3), 0px 1px 3px 1px rgba(60, 64, 67, 0.15);\n",
              "      fill: #174EA6;\n",
              "    }\n",
              "\n",
              "    [theme=dark] .colab-df-convert {\n",
              "      background-color: #3B4455;\n",
              "      fill: #D2E3FC;\n",
              "    }\n",
              "\n",
              "    [theme=dark] .colab-df-convert:hover {\n",
              "      background-color: #434B5C;\n",
              "      box-shadow: 0px 1px 3px 1px rgba(0, 0, 0, 0.15);\n",
              "      filter: drop-shadow(0px 1px 2px rgba(0, 0, 0, 0.3));\n",
              "      fill: #FFFFFF;\n",
              "    }\n",
              "  </style>\n",
              "\n",
              "      <script>\n",
              "        const buttonEl =\n",
              "          document.querySelector('#df-8d3962a2-f0e6-4405-aa36-c4bd7a549036 button.colab-df-convert');\n",
              "        buttonEl.style.display =\n",
              "          google.colab.kernel.accessAllowed ? 'block' : 'none';\n",
              "\n",
              "        async function convertToInteractive(key) {\n",
              "          const element = document.querySelector('#df-8d3962a2-f0e6-4405-aa36-c4bd7a549036');\n",
              "          const dataTable =\n",
              "            await google.colab.kernel.invokeFunction('convertToInteractive',\n",
              "                                                     [key], {});\n",
              "          if (!dataTable) return;\n",
              "\n",
              "          const docLinkHtml = 'Like what you see? Visit the ' +\n",
              "            '<a target=\"_blank\" href=https://colab.research.google.com/notebooks/data_table.ipynb>data table notebook</a>'\n",
              "            + ' to learn more about interactive tables.';\n",
              "          element.innerHTML = '';\n",
              "          dataTable['output_type'] = 'display_data';\n",
              "          await google.colab.output.renderOutput(dataTable, element);\n",
              "          const docLink = document.createElement('div');\n",
              "          docLink.innerHTML = docLinkHtml;\n",
              "          element.appendChild(docLink);\n",
              "        }\n",
              "      </script>\n",
              "    </div>\n",
              "  </div>\n",
              "  "
            ],
            "text/plain": [
              "   Match_SK  match_id                        Team1  \\\n",
              "0         0    335987  Royal Challengers Bangalore   \n",
              "1         1    335988              Kings XI Punjab   \n",
              "2         2    335989             Delhi Daredevils   \n",
              "3         3    335990               Mumbai Indians   \n",
              "4         4    335991        Kolkata Knight Riders   \n",
              "\n",
              "                         Team2 match_date  Season_Year  \\\n",
              "0        Kolkata Knight Riders  4/18/2008         2008   \n",
              "1          Chennai Super Kings  4/19/2008         2008   \n",
              "2             Rajasthan Royals  4/19/2008         2008   \n",
              "3  Royal Challengers Bangalore  4/20/2008         2008   \n",
              "4              Deccan Chargers  4/20/2008         2008   \n",
              "\n",
              "                                   Venue_Name   City_Name Country_Name  \\\n",
              "0                       M Chinnaswamy Stadium   Bangalore        India   \n",
              "1  Punjab Cricket Association Stadium, Mohali  Chandigarh        India   \n",
              "2                            Feroz Shah Kotla       Delhi        India   \n",
              "3                            Wankhede Stadium      Mumbai        India   \n",
              "4                                Eden Gardens     Kolkata        India   \n",
              "\n",
              "                   Toss_Winner                 match_winner Toss_Name  \\\n",
              "0  Royal Challengers Bangalore        Kolkata Knight Riders     field   \n",
              "1          Chennai Super Kings          Chennai Super Kings       bat   \n",
              "2             Rajasthan Royals             Delhi Daredevils       bat   \n",
              "3               Mumbai Indians  Royal Challengers Bangalore       bat   \n",
              "4              Deccan Chargers        Kolkata Knight Riders       bat   \n",
              "\n",
              "  Win_Type Outcome_Type    ManOfMach  Win_Margin  Country_id  \n",
              "0     runs       Result  BB McCullum       140.0           1  \n",
              "1     runs       Result   MEK Hussey        33.0           1  \n",
              "2  wickets       Result  MF Maharoof         9.0           1  \n",
              "3  wickets       Result   MV Boucher         5.0           1  \n",
              "4  wickets       Result    DJ Hussey         5.0           1  "
            ]
          },
          "execution_count": 5,
          "metadata": {},
          "output_type": "execute_result"
        }
      ],
      "source": [
        "df.head()"
      ]
    },
    {
      "cell_type": "code",
      "execution_count": null,
      "metadata": {
        "colab": {
          "base_uri": "https://localhost:8080/"
        },
        "id": "m5lxVZbEFZ4R",
        "outputId": "29223de8-cc66-429b-c05c-07879d54c6e0"
      },
      "outputs": [
        {
          "name": "stdout",
          "output_type": "stream",
          "text": [
            "Match_SK\n",
            "match_id\n",
            "Team1\n",
            "Team2\n",
            "match_date\n",
            "Season_Year\n",
            "Venue_Name\n",
            "City_Name\n",
            "Country_Name\n",
            "Toss_Winner\n",
            "match_winner\n",
            "Toss_Name\n",
            "Win_Type\n",
            "Outcome_Type\n",
            "ManOfMach\n",
            "Win_Margin\n",
            "Country_id\n"
          ]
        }
      ],
      "source": [
        "for col in df.columns: \n",
        "    print(col) "
      ]
    },
    {
      "cell_type": "code",
      "execution_count": null,
      "metadata": {
        "colab": {
          "base_uri": "https://localhost:8080/"
        },
        "id": "weT7pOzV5DHO",
        "outputId": "46adeeb7-26e1-4fc1-be99-0984bbd59e54"
      },
      "outputs": [
        {
          "data": {
            "text/plain": [
              "(637, 17)"
            ]
          },
          "execution_count": 7,
          "metadata": {},
          "output_type": "execute_result"
        }
      ],
      "source": [
        "df.shape"
      ]
    },
    {
      "cell_type": "code",
      "execution_count": null,
      "metadata": {
        "colab": {
          "base_uri": "https://localhost:8080/"
        },
        "id": "djRYx4tn5LY8",
        "outputId": "655fca4e-6479-40ed-8cde-fbae2b23d432"
      },
      "outputs": [
        {
          "data": {
            "text/plain": [
              "CH Gayle          18\n",
              "YK Pathan         16\n",
              "AB de Villiers    15\n",
              "DA Warner         15\n",
              "RG Sharma         14\n",
              "                  ..\n",
              "MD Mishra          1\n",
              "SB Wagh            1\n",
              "S Anirudha         1\n",
              "M Kartik           1\n",
              "KV Sharma          1\n",
              "Name: ManOfMach, Length: 202, dtype: int64"
            ]
          },
          "execution_count": 9,
          "metadata": {},
          "output_type": "execute_result"
        }
      ],
      "source": [
        "df['ManOfMach'].value_counts()"
      ]
    },
    {
      "cell_type": "code",
      "execution_count": null,
      "metadata": {
        "colab": {
          "base_uri": "https://localhost:8080/",
          "height": 700
        },
        "id": "y2lJTdhT59En",
        "outputId": "d3e38472-5eb1-4e12-fd08-e2b6501e2dc2"
      },
      "outputs": [
        {
          "data": {
            "image/png": "[encoded data removed]",
            "text/plain": [
              "<Figure size 864x864 with 1 Axes>"
            ]
          },
          "metadata": {},
          "output_type": "display_data"
        }
      ],
      "source": [
        "plt.figure(figsize=(12,12))\n",
        "plt.bar(list(df['ManOfMach'].value_counts()[0:15].keys()),list(df['ManOfMach'].value_counts()[0:15]),color=\"g\")\n",
        "plt.show()"
      ]
    },
    {
      "cell_type": "code",
      "execution_count": null,
      "metadata": {
        "id": "ziKsmXmF6Sb5"
      },
      "outputs": [],
      "source": [
        "df.sort_values(by=['Win_Margin'],ascending=False).head()"
      ]
    },
    {
      "cell_type": "code",
      "execution_count": null,
      "metadata": {
        "colab": {
          "base_uri": "https://localhost:8080/",
          "height": 430
        },
        "id": "cCiyZAxV8H0c",
        "outputId": "aab2524e-a5cc-4578-fe7d-ebc7f432724b"
      },
      "outputs": [
        {
          "output_type": "execute_result",
          "data": {
            "text/plain": [
              "<matplotlib.axes._subplots.AxesSubplot at 0x7fc1ba635190>"
            ]
          },
          "metadata": {},
          "execution_count": 6
        },
        {
          "output_type": "display_data",
          "data": {
            "text/plain": [
              "<Figure size 432x288 with 1 Axes>"
            ],
            "image/png": "[encoded data removed]"
          },
          "metadata": {
            "needs_background": "light"
          }
        }
      ],
      "source": [
        "gf.plot.bar(x='team',y=['home_win_percentage','away_win_percentage'])"
      ]
    },
    {
      "cell_type": "code",
      "source": [
        ""
      ],
      "metadata": {
        "id": "RlG89oB8lFMZ"
      },
      "execution_count": null,
      "outputs": []
    }
  ],
  "metadata": {
    "colab": {
      "name": "Untitled",
      "provenance": []
    },
    "kernelspec": {
      "display_name": "Python 3",
      "name": "python3"
    },
    "language_info": {
      "name": "python"
    }
  },
  "nbformat": 4,
  "nbformat_minor": 0
}